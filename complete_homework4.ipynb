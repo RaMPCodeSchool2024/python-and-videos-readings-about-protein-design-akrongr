{
  "cells": [
    {
      "cell_type": "markdown",
      "metadata": {
        "id": "ZKuGDZF7Ftjg"
      },
      "source": [
        "First, download this notebook and upload it to your Google Drive. Once it's in your Google Drive, you can open it with Google Colab. Write your code in Google Colab. When you're done, download the notebook from Google Colab and upload it to GitHub. This is exactly what you did in the previous assignment."
      ]
    },
    {
      "cell_type": "markdown",
      "metadata": {
        "id": "YEt3-JnCFtjj"
      },
      "source": [
        "# HW4 : Even More Python Exercises!\n",
        "\n",
        "Hi everyone! Welcome to the fourth homework assignment. This assignment contains more Python exercises – shocking(!) You will practice with basic plotting and writing many functions, and it will be a whole lot of fun. Let's get started!"
      ]
    },
    {
      "cell_type": "markdown",
      "metadata": {
        "id": "kLvdn1hHFtjl"
      },
      "source": [
        "## Part 0: Plotting\n",
        "\n",
        "In this section, you will practice plotting using the `matplotlib` library. You will also practice using `numpy` arrays.\n",
        "\n",
        "### Problem 0: Basic Plotting\n",
        "\n",
        "In this problem, you will plot the function f(x) = x^2 for x in the range [-10, 10].\n",
        "\n",
        "First, import the `matplotlib.pyplot` library as `plt`. Then, use the `linspace` function from the `numpy` library to create an array of 100 points between -10 and 10. Finally, plot the function f(x) = x^2 for x in the range [-10, 10]."
      ]
    },
    {
      "cell_type": "code",
      "execution_count": null,
      "metadata": {
        "id": "zySc0RRMFtjl",
        "colab": {
          "base_uri": "https://localhost:8080/",
          "height": 447
        },
        "outputId": "6e7f8b92-6bee-4dbf-8a38-2857076cc406"
      },
      "outputs": [
        {
          "output_type": "execute_result",
          "data": {
            "text/plain": [
              "[<matplotlib.lines.Line2D at 0x7d18c3eefdc0>]"
            ]
          },
          "metadata": {},
          "execution_count": 9
        },
        {
          "output_type": "display_data",
          "data": {
            "text/plain": [
              "<Figure size 640x480 with 1 Axes>"
            ],
            "image/png": "[encoded data removed]"
          },
          "metadata": {}
        }
      ],
      "source": [
        "# Implement your code for Problem 0 in this cell.\n",
        "\n",
        "import matplotlib.pyplot as plt\n",
        "import numpy\n",
        "\n",
        "x = numpy.linspace(-10,10,100)\n",
        "y = pow(x,2)\n",
        "plt.plot(x,y)\n"
      ]
    },
    {
      "cell_type": "markdown",
      "metadata": {
        "id": "c2vBxFZaFtjn"
      },
      "source": [
        "## Part 1: Functions\n",
        "\n",
        "Functions are a great way to organize computations. They allow you to break down a large problem into smaller, more manageable pieces. Functions also allow you to reuse code. If you find yourself writing the same code over and over again, you should consider writing a function.\n",
        "\n",
        "One fun thing about functions is that they can call themselves (recursion) and other functions. Recursion is a powerful technique that allows you to solve complex problems. In this section, you will practice writing recursive functions."
      ]
    },
    {
      "cell_type": "markdown",
      "metadata": {
        "id": "VqplPLHWFtjo"
      },
      "source": [
        "### Problem 1: Palindrome\n",
        "\n",
        "Write a function called `is_palindrome` that takes in a string `s` and returns `True` if `s` is a palindrome and `False` otherwise.\n",
        "\n",
        "A palindrome is a string that is the same forwards and backwards. For example, \"racecar\" is a palindrome.\n",
        "\n",
        "Your function should be able to call itself to check if the string is a palindrome. You should not use a loop to solve this problem.\n",
        "\n",
        "Once you have your function, call it to check if \"racecar\" is a palindrome. Bonus \"imaginary points\" if you can figure out how to check if \"Racecar\" is a palindrome."
      ]
    },
    {
      "cell_type": "code",
      "execution_count": null,
      "metadata": {
        "id": "GS0wWymRFtjp",
        "colab": {
          "base_uri": "https://localhost:8080/"
        },
        "outputId": "ac914a9e-1250-4cf2-c297-7414fde85563"
      },
      "outputs": [
        {
          "output_type": "stream",
          "name": "stdout",
          "text": [
            "Racecar\n",
            "aceca\n",
            "cec\n"
          ]
        },
        {
          "output_type": "execute_result",
          "data": {
            "text/plain": [
              "True"
            ]
          },
          "metadata": {},
          "execution_count": 24
        }
      ],
      "source": [
        "# Implement your code for Problem 1 in this cell.\n",
        "\n",
        "def palindrome(s):\n",
        "  if len(s) <= 1:\n",
        "   return True\n",
        "\n",
        "  elif s[0].lower() != s[-1].lower():\n",
        "    return False\n",
        "\n",
        "  else:\n",
        "    print(s)\n",
        "    return palindrome(s[1:-1])\n",
        "\n",
        "palindrome(\"Racecar\")\n",
        "\n",
        "\n",
        "\n",
        "\n"
      ]
    },
    {
      "cell_type": "markdown",
      "metadata": {
        "id": "WgZL_VeyFtjp"
      },
      "source": [
        "### Problem 2: Factorial\n",
        "\n",
        "Write a function called `factorial` that takes in an integer `n` and returns the factorial of `n`.\n",
        "\n",
        "The factorial of a number is given by the recurrence relation:\n",
        "n! = n * (n-1)!\n",
        "\n",
        "The base case is 0! = 1.\n",
        "\n",
        "Your function should be able to call itself to compute the factorial of `n`. You should not use a loop to solve this problem.\n",
        "\n",
        "Once you have your function, call it to compute the factorial of 10."
      ]
    },
    {
      "cell_type": "code",
      "execution_count": null,
      "metadata": {
        "id": "ygHgh0vMFtjq",
        "colab": {
          "base_uri": "https://localhost:8080/"
        },
        "outputId": "4e7e96e5-5e34-4e84-8043-52bee9109bbf"
      },
      "outputs": [
        {
          "output_type": "execute_result",
          "data": {
            "text/plain": [
              "3628800"
            ]
          },
          "metadata": {},
          "execution_count": 25
        }
      ],
      "source": [
        "# Implement your code for Problem 2 in this cell.\n",
        "\n",
        "def factorial(n):\n",
        "  if n == 0:\n",
        "    return 1\n",
        "  else:\n",
        "    return n * factorial(n-1)\n",
        "\n",
        "factorial(10)\n",
        "\n",
        "\n",
        "\n",
        "\n"
      ]
    },
    {
      "cell_type": "markdown",
      "metadata": {
        "id": "jYDp13WQFtjq"
      },
      "source": [
        "### Problem 3: Fibonacci Sequence\n",
        "\n",
        "Write a function called `fibonacci` that takes in an integer `n` and returns the `n`th number in the Fibonacci sequence.\n",
        "\n",
        "The Fibonacci sequence is given by the recurrence relation:\n",
        "F(n) = F(n-1) + F(n-2)\n",
        "\n",
        "The first two numbers in the sequence are 0 and 1. That is, F(0) = 0 and F(1) = 1.\n",
        "\n",
        "Your function should be able to call itself to compute the `n`th number in the sequence. You should not use a loop to solve this problem.\n",
        "\n",
        "**Hint:** You will need to use an `if` statement to handle the base cases (n = 0 and n = 1).\n",
        "\n",
        "Once you have your function, call it to compute the 10th number in the sequence."
      ]
    },
    {
      "cell_type": "code",
      "execution_count": null,
      "metadata": {
        "id": "q-T-r3gSFtjr",
        "colab": {
          "base_uri": "https://localhost:8080/"
        },
        "outputId": "30669016-78ed-45b1-d8d2-ce3247462d30"
      },
      "outputs": [
        {
          "output_type": "execute_result",
          "data": {
            "text/plain": [
              "55"
            ]
          },
          "metadata": {},
          "execution_count": 26
        }
      ],
      "source": [
        "# Implement your code for Problem 3 in this cell\n",
        "\n",
        "def fibonacci(n):\n",
        "  if n == 0:\n",
        "   return 0\n",
        "  elif n == 1:\n",
        "   return 1\n",
        "\n",
        "  else:\n",
        "    return fibonacci(n-1) + fibonacci(n-2)\n",
        "\n",
        "fibonacci(10)\n",
        "\n",
        "\n",
        "\n",
        "\n"
      ]
    },
    {
      "cell_type": "markdown",
      "metadata": {
        "id": "NA7b6hywFtjs"
      },
      "source": [
        "### Problem 3.5: Timed Fibonacci\n",
        "\n",
        "In this problem, you will plot the time it takes to compute the `n`th number in the Fibonacci sequence for `n` in the range [0, 30].\n",
        "\n",
        "First, import the `time` library. Then, create an empty list called `times`. Next, use a `for` loop to compute the `n`th number in the Fibonacci sequence for `n` in the range [0, 30]. For each `n`, compute the time it takes to compute the `n`th number in the Fibonacci sequence. Append this time to the `times` list. Finally, plot the time it takes to compute the `n`th number in the Fibonacci sequence for `n` in the range [0, 30].\n",
        "\n",
        "**Hint:** You will need to use the `time.time()` function to compute the time it takes to compute the `n`th number in the Fibonacci sequence. You will also need to use the `append` function to append the time to the `times` list."
      ]
    },
    {
      "cell_type": "code",
      "execution_count": 29,
      "metadata": {
        "id": "mZO98CGAFtjs",
        "colab": {
          "base_uri": "https://localhost:8080/",
          "height": 466
        },
        "outputId": "c4a19612-f11a-4485-9dc1-3c62dcfb9a0a"
      },
      "outputs": [
        {
          "output_type": "execute_result",
          "data": {
            "text/plain": [
              "Text(0, 0.5, 'computing time')"
            ]
          },
          "metadata": {},
          "execution_count": 29
        },
        {
          "output_type": "display_data",
          "data": {
            "text/plain": [
              "<Figure size 640x480 with 1 Axes>"
            ],
            "image/png": "[encoded data removed]"
          },
          "metadata": {}
        }
      ],
      "source": [
        "# Implement your code for Problem 3.5 in this cell.\n",
        "\n",
        "#import matplotlib.pyplot as plt\n",
        "\n",
        "import time\n",
        "\n",
        "times = []\n",
        "\n",
        "def fibonacci(n):\n",
        "  if n == 0:\n",
        "   return 0\n",
        "  elif n == 1:\n",
        "   return 1\n",
        "\n",
        "  else:\n",
        "    return fibonacci(n-1) + fibonacci(n-2)\n",
        "\n",
        "for n in range(0,30):\n",
        "  start = time.time()\n",
        "  fibonacci(n)\n",
        "  end = time.time()\n",
        "  times.append(end-start)\n",
        "\n",
        "plt.plot(times)\n",
        "plt.xlabel('n')\n",
        "plt.ylabel('computing time')\n"
      ]
    }
  ],
  "metadata": {
    "kernelspec": {
      "display_name": "Python 3",
      "language": "python",
      "name": "python3"
    },
    "language_info": {
      "codemirror_mode": {
        "name": "ipython",
        "version": 3
      },
      "file_extension": ".py",
      "mimetype": "text/x-python",
      "name": "python",
      "nbconvert_exporter": "python",
      "pygments_lexer": "ipython3",
      "version": "3.10.6"
    },
    "orig_nbformat": 4,
    "colab": {
      "provenance": []
    }
  },
  "nbformat": 4,
  "nbformat_minor": 0
}